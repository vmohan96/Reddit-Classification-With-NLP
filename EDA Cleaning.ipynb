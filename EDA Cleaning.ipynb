{
 "cells": [
  {
   "cell_type": "markdown",
   "metadata": {},
   "source": [
    "# Project 3A: EDA and Data Cleaning"
   ]
  },
  {
   "cell_type": "markdown",
   "metadata": {},
   "source": [
    "## 1. Executive Summary"
   ]
  },
  {
   "cell_type": "markdown",
   "metadata": {},
   "source": [
    "Our goal for this analysis is somewhat open-ended. At the center of it is the concept of Natural Language Processing (NLP), which in the context of machine learning, calls for a model to process and fit on large amounts of human language data in order to make relevant conclusions. In our case, we are setting out to create an NLP Classifier fit on two distinct pages from Reddit. Our goal will be to create a model capable of accurately predicting to which subreddit a given post belongs, based on the diction used in that post. \n",
    "\n",
    "Our two chosen subreddits are r/PersonalFinance and r/Investing. These two pages share a number of similarities, particularly in their focus on financial concepts and money management, but they are naturally different in the scale and scope of discussions hosted. Investing generally tends to focus on public markets, firm decisions that affect markets and investment portfolios, etc. Personal Finance tends to host discussions more focused on individual financial questions and issues, with many related to things like taxes, savings accounts, career-related finances, etc. \n",
    "\n",
    "By training our NLP classifier on the linguistic content on each subreddit, we hope to build a model capable of distinguising between r/Investing and r/PersonalFinance effectively enough to predict where a theoretical new post would be best suited."
   ]
  },
  {
   "cell_type": "markdown",
   "metadata": {},
   "source": [
    "## 2. Imports and Read-In"
   ]
  },
  {
   "cell_type": "code",
   "execution_count": 1,
   "metadata": {},
   "outputs": [],
   "source": [
    "import pandas as pd\n",
    "import numpy as np\n",
    "import matplotlib.pyplot as plt\n",
    "import seaborn as sns\n",
    "plt.style.use('ggplot')\n",
    "\n",
    "\n",
    "from sklearn.linear_model import LogisticRegression\n",
    "from sklearn.naive_bayes import MultinomialNB\n",
    "from sklearn.feature_extraction.text import CountVectorizer, TfidfVectorizer\n",
    "from sklearn.pipeline import make_pipeline\n",
    "from sklearn.model_selection import GridSearchCV, cross_val_score, train_test_split\n",
    "from sklearn.feature_extraction import text\n",
    "from nltk.stem.porter import PorterStemmer\n",
    "from nltk.stem import WordNetLemmatizer\n",
    "from nltk.tokenize import RegexpTokenizer, word_tokenize\n",
    "import re\n",
    "\n",
    "from textblob import TextBlob\n",
    "from vaderSentiment.vaderSentiment import SentimentIntensityAnalyzer"
   ]
  },
  {
   "cell_type": "code",
   "execution_count": 2,
   "metadata": {},
   "outputs": [],
   "source": [
    "investing = pd.read_csv('./data/investing_20k.csv')\n",
    "pfin = pd.read_csv('./data/personalfinance_20k.csv')"
   ]
  },
  {
   "cell_type": "code",
   "execution_count": 3,
   "metadata": {},
   "outputs": [],
   "source": [
    "investing.drop(columns='Unnamed: 0',inplace=True)\n",
    "pfin.drop(columns='Unnamed: 0',inplace=True)"
   ]
  },
  {
   "cell_type": "code",
   "execution_count": 4,
   "metadata": {},
   "outputs": [
    {
     "data": {
      "text/html": [
       "<div>\n",
       "<style scoped>\n",
       "    .dataframe tbody tr th:only-of-type {\n",
       "        vertical-align: middle;\n",
       "    }\n",
       "\n",
       "    .dataframe tbody tr th {\n",
       "        vertical-align: top;\n",
       "    }\n",
       "\n",
       "    .dataframe thead th {\n",
       "        text-align: right;\n",
       "    }\n",
       "</style>\n",
       "<table border=\"1\" class=\"dataframe\">\n",
       "  <thead>\n",
       "    <tr style=\"text-align: right;\">\n",
       "      <th></th>\n",
       "      <th>title</th>\n",
       "      <th>author</th>\n",
       "      <th>selftext</th>\n",
       "      <th>created_utc</th>\n",
       "      <th>subreddit</th>\n",
       "    </tr>\n",
       "  </thead>\n",
       "  <tbody>\n",
       "    <tr>\n",
       "      <th>0</th>\n",
       "      <td>I think I got lucky with Corsair</td>\n",
       "      <td>code4109</td>\n",
       "      <td>Just started investing this month and this is ...</td>\n",
       "      <td>1601600412</td>\n",
       "      <td>investing</td>\n",
       "    </tr>\n",
       "    <tr>\n",
       "      <th>1</th>\n",
       "      <td>help please im noob</td>\n",
       "      <td>bugiii3</td>\n",
       "      <td>[removed]</td>\n",
       "      <td>1601598645</td>\n",
       "      <td>investing</td>\n",
       "    </tr>\n",
       "    <tr>\n",
       "      <th>2</th>\n",
       "      <td>Why do stocks go up?</td>\n",
       "      <td>Illustrious-Twist-19</td>\n",
       "      <td>[removed]</td>\n",
       "      <td>1601598583</td>\n",
       "      <td>investing</td>\n",
       "    </tr>\n",
       "    <tr>\n",
       "      <th>3</th>\n",
       "      <td>How do I set up an account?</td>\n",
       "      <td>GoISU25</td>\n",
       "      <td>I just recently downloaded Robinhood and have ...</td>\n",
       "      <td>1601597880</td>\n",
       "      <td>investing</td>\n",
       "    </tr>\n",
       "    <tr>\n",
       "      <th>4</th>\n",
       "      <td>Holding til things settle?</td>\n",
       "      <td>[deleted]</td>\n",
       "      <td>[deleted]</td>\n",
       "      <td>1601597840</td>\n",
       "      <td>investing</td>\n",
       "    </tr>\n",
       "  </tbody>\n",
       "</table>\n",
       "</div>"
      ],
      "text/plain": [
       "                              title                author  \\\n",
       "0  I think I got lucky with Corsair              code4109   \n",
       "1               help please im noob               bugiii3   \n",
       "2              Why do stocks go up?  Illustrious-Twist-19   \n",
       "3       How do I set up an account?               GoISU25   \n",
       "4        Holding til things settle?             [deleted]   \n",
       "\n",
       "                                            selftext  created_utc  subreddit  \n",
       "0  Just started investing this month and this is ...   1601600412  investing  \n",
       "1                                          [removed]   1601598645  investing  \n",
       "2                                          [removed]   1601598583  investing  \n",
       "3  I just recently downloaded Robinhood and have ...   1601597880  investing  \n",
       "4                                          [deleted]   1601597840  investing  "
      ]
     },
     "execution_count": 4,
     "metadata": {},
     "output_type": "execute_result"
    }
   ],
   "source": [
    "investing.head()"
   ]
  },
  {
   "cell_type": "code",
   "execution_count": 5,
   "metadata": {},
   "outputs": [
    {
     "data": {
      "text/html": [
       "<div>\n",
       "<style scoped>\n",
       "    .dataframe tbody tr th:only-of-type {\n",
       "        vertical-align: middle;\n",
       "    }\n",
       "\n",
       "    .dataframe tbody tr th {\n",
       "        vertical-align: top;\n",
       "    }\n",
       "\n",
       "    .dataframe thead th {\n",
       "        text-align: right;\n",
       "    }\n",
       "</style>\n",
       "<table border=\"1\" class=\"dataframe\">\n",
       "  <thead>\n",
       "    <tr style=\"text-align: right;\">\n",
       "      <th></th>\n",
       "      <th>title</th>\n",
       "      <th>author</th>\n",
       "      <th>selftext</th>\n",
       "      <th>created_utc</th>\n",
       "      <th>subreddit</th>\n",
       "    </tr>\n",
       "  </thead>\n",
       "  <tbody>\n",
       "    <tr>\n",
       "      <th>0</th>\n",
       "      <td>PA— I have to self quarantine for 14 days beca...</td>\n",
       "      <td>lemmelurkhoe</td>\n",
       "      <td>[removed]</td>\n",
       "      <td>1601600107</td>\n",
       "      <td>personalfinance</td>\n",
       "    </tr>\n",
       "    <tr>\n",
       "      <th>1</th>\n",
       "      <td>Roth IRA Question</td>\n",
       "      <td>JoeMarine1</td>\n",
       "      <td>I opened a Roth IRA with M1 Finance. With M1 F...</td>\n",
       "      <td>1601600087</td>\n",
       "      <td>personalfinance</td>\n",
       "    </tr>\n",
       "    <tr>\n",
       "      <th>2</th>\n",
       "      <td>Refi 30y mortgage looks to good to be true.. w...</td>\n",
       "      <td>The-Dane</td>\n",
       "      <td>I saw another post and did not want to hijack ...</td>\n",
       "      <td>1601600014</td>\n",
       "      <td>personalfinance</td>\n",
       "    </tr>\n",
       "    <tr>\n",
       "      <th>3</th>\n",
       "      <td>Still have not gotten my federal tax return, i...</td>\n",
       "      <td>pale_friend</td>\n",
       "      <td>This is my first time that I am supposed to ge...</td>\n",
       "      <td>1601600006</td>\n",
       "      <td>personalfinance</td>\n",
       "    </tr>\n",
       "    <tr>\n",
       "      <th>4</th>\n",
       "      <td>Medical coverage for international travel</td>\n",
       "      <td>Qwirkle2468</td>\n",
       "      <td>I'm not sure this is the right sub for this. M...</td>\n",
       "      <td>1601599701</td>\n",
       "      <td>personalfinance</td>\n",
       "    </tr>\n",
       "  </tbody>\n",
       "</table>\n",
       "</div>"
      ],
      "text/plain": [
       "                                               title        author  \\\n",
       "0  PA— I have to self quarantine for 14 days beca...  lemmelurkhoe   \n",
       "1                                  Roth IRA Question    JoeMarine1   \n",
       "2  Refi 30y mortgage looks to good to be true.. w...      The-Dane   \n",
       "3  Still have not gotten my federal tax return, i...   pale_friend   \n",
       "4          Medical coverage for international travel   Qwirkle2468   \n",
       "\n",
       "                                            selftext  created_utc  \\\n",
       "0                                          [removed]   1601600107   \n",
       "1  I opened a Roth IRA with M1 Finance. With M1 F...   1601600087   \n",
       "2  I saw another post and did not want to hijack ...   1601600014   \n",
       "3  This is my first time that I am supposed to ge...   1601600006   \n",
       "4  I'm not sure this is the right sub for this. M...   1601599701   \n",
       "\n",
       "         subreddit  \n",
       "0  personalfinance  \n",
       "1  personalfinance  \n",
       "2  personalfinance  \n",
       "3  personalfinance  \n",
       "4  personalfinance  "
      ]
     },
     "execution_count": 5,
     "metadata": {},
     "output_type": "execute_result"
    }
   ],
   "source": [
    "pfin.head()"
   ]
  },
  {
   "cell_type": "markdown",
   "metadata": {},
   "source": [
    "## 3. Data Cleaning"
   ]
  },
  {
   "cell_type": "markdown",
   "metadata": {},
   "source": [
    "#### Creating a Master DataFrame to Deal with [removed] and empty text together"
   ]
  },
  {
   "cell_type": "code",
   "execution_count": 6,
   "metadata": {},
   "outputs": [
    {
     "name": "stdout",
     "output_type": "stream",
     "text": [
      "<class 'pandas.core.frame.DataFrame'>\n",
      "Int64Index: 40000 entries, 0 to 19999\n",
      "Data columns (total 5 columns):\n",
      " #   Column       Non-Null Count  Dtype \n",
      "---  ------       --------------  ----- \n",
      " 0   title        40000 non-null  object\n",
      " 1   author       40000 non-null  object\n",
      " 2   selftext     39171 non-null  object\n",
      " 3   created_utc  40000 non-null  int64 \n",
      " 4   subreddit    40000 non-null  object\n",
      "dtypes: int64(1), object(4)\n",
      "memory usage: 1.8+ MB\n"
     ]
    }
   ],
   "source": [
    "master_df = pd.concat([investing,pfin],axis=0)\n",
    "master_df.info()"
   ]
  },
  {
   "cell_type": "code",
   "execution_count": 7,
   "metadata": {},
   "outputs": [],
   "source": [
    "master_df['subreddit'] = master_df['subreddit'].map({'investing':1,'personalfinance':0})"
   ]
  },
  {
   "cell_type": "code",
   "execution_count": 8,
   "metadata": {},
   "outputs": [],
   "source": [
    "master_df['selftext'].fillna('NO_TEXT',inplace=True)"
   ]
  },
  {
   "cell_type": "code",
   "execution_count": 9,
   "metadata": {},
   "outputs": [],
   "source": [
    "master_df['selftext'].replace('[removed]','NO_TEXT',inplace=True)"
   ]
  },
  {
   "cell_type": "code",
   "execution_count": 10,
   "metadata": {},
   "outputs": [],
   "source": [
    "master_df['selftext'].replace('[deleted]','NO_TEXT',inplace=True)"
   ]
  },
  {
   "cell_type": "markdown",
   "metadata": {},
   "source": [
    "##### Noticed a strange issue with processing ampersands for both subs, so I replaced them with 'and'. It seemed particularly important when dealing with mentions of the S&P index, which came up in both subs. In order to allow S&P to be vectorized as one word, I had to use 'and' instead of a regular '&'."
   ]
  },
  {
   "cell_type": "code",
   "execution_count": 11,
   "metadata": {},
   "outputs": [],
   "source": [
    "master_df['selftext'] = master_df['selftext'].str.replace('&amp;','and')\n",
    "master_df['title'] = master_df['title'].str.replace('&amp;','and')"
   ]
  },
  {
   "cell_type": "code",
   "execution_count": 12,
   "metadata": {},
   "outputs": [
    {
     "data": {
      "text/html": [
       "<div>\n",
       "<style scoped>\n",
       "    .dataframe tbody tr th:only-of-type {\n",
       "        vertical-align: middle;\n",
       "    }\n",
       "\n",
       "    .dataframe tbody tr th {\n",
       "        vertical-align: top;\n",
       "    }\n",
       "\n",
       "    .dataframe thead th {\n",
       "        text-align: right;\n",
       "    }\n",
       "</style>\n",
       "<table border=\"1\" class=\"dataframe\">\n",
       "  <thead>\n",
       "    <tr style=\"text-align: right;\">\n",
       "      <th></th>\n",
       "      <th>title</th>\n",
       "      <th>author</th>\n",
       "      <th>selftext</th>\n",
       "      <th>created_utc</th>\n",
       "      <th>subreddit</th>\n",
       "    </tr>\n",
       "  </thead>\n",
       "  <tbody>\n",
       "    <tr>\n",
       "      <th>63</th>\n",
       "      <td>Asset Allocation</td>\n",
       "      <td>MattBisc13</td>\n",
       "      <td>Hello everyone, looking for advice. I am a 19 ...</td>\n",
       "      <td>1601557091</td>\n",
       "      <td>1</td>\n",
       "    </tr>\n",
       "    <tr>\n",
       "      <th>142</th>\n",
       "      <td>Bloomberg Terminal news question</td>\n",
       "      <td>macpad095</td>\n",
       "      <td>I got free access to a Bloomberg Terminal prov...</td>\n",
       "      <td>1601491711</td>\n",
       "      <td>1</td>\n",
       "    </tr>\n",
       "    <tr>\n",
       "      <th>263</th>\n",
       "      <td>28 years old. My financial advisor has been ho...</td>\n",
       "      <td>scratchgolfer17</td>\n",
       "      <td>Here is my plan:\\n\\n*Single-k 401k*\\n\\n**Curre...</td>\n",
       "      <td>1601405982</td>\n",
       "      <td>1</td>\n",
       "    </tr>\n",
       "    <tr>\n",
       "      <th>272</th>\n",
       "      <td>Dump my entire portfolio into clean energy ETF?</td>\n",
       "      <td>BigSadIdiot</td>\n",
       "      <td>Title. How good/bad of an idea is this?\\n\\nBac...</td>\n",
       "      <td>1601399195</td>\n",
       "      <td>1</td>\n",
       "    </tr>\n",
       "    <tr>\n",
       "      <th>332</th>\n",
       "      <td>Leveraged version of the SPY?</td>\n",
       "      <td>Godkingcoconut</td>\n",
       "      <td>Okay so we all know about the QQQ for the Nasd...</td>\n",
       "      <td>1601349781</td>\n",
       "      <td>1</td>\n",
       "    </tr>\n",
       "    <tr>\n",
       "      <th>...</th>\n",
       "      <td>...</td>\n",
       "      <td>...</td>\n",
       "      <td>...</td>\n",
       "      <td>...</td>\n",
       "      <td>...</td>\n",
       "    </tr>\n",
       "    <tr>\n",
       "      <th>18308</th>\n",
       "      <td>Help investing 20k in Charles Schwab mutual fu...</td>\n",
       "      <td>CommeDeuxGouttesDeau</td>\n",
       "      <td>I have saved 10k up in a emergency fund bank s...</td>\n",
       "      <td>1597806965</td>\n",
       "      <td>0</td>\n",
       "    </tr>\n",
       "    <tr>\n",
       "      <th>18528</th>\n",
       "      <td>How much should I be in investing? What should...</td>\n",
       "      <td>MooingComputer</td>\n",
       "      <td>After 5 years of my wife and I working our ass...</td>\n",
       "      <td>1597778594</td>\n",
       "      <td>0</td>\n",
       "    </tr>\n",
       "    <tr>\n",
       "      <th>18694</th>\n",
       "      <td>How does my portfolio look?</td>\n",
       "      <td>ToopLoopDoop</td>\n",
       "      <td>* Background\\n   * 19\\n   * Sophomore in colle...</td>\n",
       "      <td>1597759480</td>\n",
       "      <td>0</td>\n",
       "    </tr>\n",
       "    <tr>\n",
       "      <th>19076</th>\n",
       "      <td>Need advice picking 401k investment options</td>\n",
       "      <td>loose-leaf-paper</td>\n",
       "      <td>The new company I work for have given me a 401...</td>\n",
       "      <td>1597688840</td>\n",
       "      <td>0</td>\n",
       "    </tr>\n",
       "    <tr>\n",
       "      <th>19964</th>\n",
       "      <td>Mortgage consolidation - shorter term or inves...</td>\n",
       "      <td>notmyrealname-931498</td>\n",
       "      <td>I am planning to consolidate two home mortgage...</td>\n",
       "      <td>1597509567</td>\n",
       "      <td>0</td>\n",
       "    </tr>\n",
       "  </tbody>\n",
       "</table>\n",
       "<p>653 rows × 5 columns</p>\n",
       "</div>"
      ],
      "text/plain": [
       "                                                   title  \\\n",
       "63                                      Asset Allocation   \n",
       "142                     Bloomberg Terminal news question   \n",
       "263    28 years old. My financial advisor has been ho...   \n",
       "272      Dump my entire portfolio into clean energy ETF?   \n",
       "332                        Leveraged version of the SPY?   \n",
       "...                                                  ...   \n",
       "18308  Help investing 20k in Charles Schwab mutual fu...   \n",
       "18528  How much should I be in investing? What should...   \n",
       "18694                        How does my portfolio look?   \n",
       "19076        Need advice picking 401k investment options   \n",
       "19964  Mortgage consolidation - shorter term or inves...   \n",
       "\n",
       "                     author  \\\n",
       "63               MattBisc13   \n",
       "142               macpad095   \n",
       "263         scratchgolfer17   \n",
       "272             BigSadIdiot   \n",
       "332          Godkingcoconut   \n",
       "...                     ...   \n",
       "18308  CommeDeuxGouttesDeau   \n",
       "18528        MooingComputer   \n",
       "18694          ToopLoopDoop   \n",
       "19076      loose-leaf-paper   \n",
       "19964  notmyrealname-931498   \n",
       "\n",
       "                                                selftext  created_utc  \\\n",
       "63     Hello everyone, looking for advice. I am a 19 ...   1601557091   \n",
       "142    I got free access to a Bloomberg Terminal prov...   1601491711   \n",
       "263    Here is my plan:\\n\\n*Single-k 401k*\\n\\n**Curre...   1601405982   \n",
       "272    Title. How good/bad of an idea is this?\\n\\nBac...   1601399195   \n",
       "332    Okay so we all know about the QQQ for the Nasd...   1601349781   \n",
       "...                                                  ...          ...   \n",
       "18308  I have saved 10k up in a emergency fund bank s...   1597806965   \n",
       "18528  After 5 years of my wife and I working our ass...   1597778594   \n",
       "18694  * Background\\n   * 19\\n   * Sophomore in colle...   1597759480   \n",
       "19076  The new company I work for have given me a 401...   1597688840   \n",
       "19964  I am planning to consolidate two home mortgage...   1597509567   \n",
       "\n",
       "       subreddit  \n",
       "63             1  \n",
       "142            1  \n",
       "263            1  \n",
       "272            1  \n",
       "332            1  \n",
       "...          ...  \n",
       "18308          0  \n",
       "18528          0  \n",
       "18694          0  \n",
       "19076          0  \n",
       "19964          0  \n",
       "\n",
       "[653 rows x 5 columns]"
      ]
     },
     "execution_count": 12,
     "metadata": {},
     "output_type": "execute_result"
    }
   ],
   "source": [
    "master_df[master_df['selftext'].str.contains('SandP')]\n",
    "# Quick check to make sure S&P has been replaced the way that we want it; looks like it's good to go."
   ]
  },
  {
   "cell_type": "markdown",
   "metadata": {},
   "source": [
    "#### Separating them back out to do some EDA on each and Finer Cleaning"
   ]
  },
  {
   "cell_type": "code",
   "execution_count": 13,
   "metadata": {},
   "outputs": [],
   "source": [
    "investing_clean = master_df[master_df['subreddit']==1]\n",
    "pfin_clean = master_df[master_df['subreddit']==0]"
   ]
  },
  {
   "cell_type": "code",
   "execution_count": 14,
   "metadata": {},
   "outputs": [],
   "source": [
    "my_tokenizer = RegexpTokenizer(\"[a-zA-Z0-9\\'?]+\")"
   ]
  },
  {
   "cell_type": "code",
   "execution_count": 15,
   "metadata": {},
   "outputs": [],
   "source": [
    "my_stop = ['no_text', '\\n&gt;' ,'https', 'com', 'www', 'don']\n",
    "stop_words = text.ENGLISH_STOP_WORDS.union(my_stop)\n",
    "\n",
    "cvect = CountVectorizer(stop_words=stop_words,max_features=100)\n",
    "tfidf = TfidfVectorizer(stop_words=stop_words)"
   ]
  },
  {
   "cell_type": "markdown",
   "metadata": {},
   "source": [
    "#### Grabbing the Top 20 words in each sub, will represent visually later"
   ]
  },
  {
   "cell_type": "code",
   "execution_count": 16,
   "metadata": {},
   "outputs": [
    {
     "name": "stderr",
     "output_type": "stream",
     "text": [
      "C:\\Users\\User\\anaconda3\\lib\\site-packages\\sklearn\\feature_extraction\\text.py:383: UserWarning: Your stop_words may be inconsistent with your preprocessing. Tokenizing the stop words generated tokens ['gt'] not in stop_words.\n",
      "  warnings.warn('Your stop_words may be inconsistent with '\n"
     ]
    }
   ],
   "source": [
    "dtm_inv = cvect.fit_transform(investing_clean['selftext'])\n",
    "dtm_inv = pd.DataFrame(dtm_inv.toarray(),columns=cvect.get_feature_names())\n",
    "\n",
    "inv_top_20 = pd.DataFrame(dtm_inv.sum().nlargest(20))"
   ]
  },
  {
   "cell_type": "code",
   "execution_count": 17,
   "metadata": {},
   "outputs": [],
   "source": [
    "dtm_pfin = cvect.fit_transform(pfin_clean['selftext'])\n",
    "dtm_pfin = pd.DataFrame(dtm_pfin.toarray(),columns=cvect.get_feature_names())\n",
    "\n",
    "pfin_top_20 = pd.DataFrame(dtm_pfin.sum().nlargest(20))"
   ]
  },
  {
   "cell_type": "markdown",
   "metadata": {},
   "source": [
    "##### It is worth noting that there were many more blank selftext's in the sample of the investing subreddit's posts when compared to the personal finance sample:"
   ]
  },
  {
   "cell_type": "code",
   "execution_count": 18,
   "metadata": {},
   "outputs": [
    {
     "data": {
      "text/plain": [
       "8253"
      ]
     },
     "execution_count": 18,
     "metadata": {},
     "output_type": "execute_result"
    }
   ],
   "source": [
    "investing_clean['selftext'].value_counts(ascending=False)[0]"
   ]
  },
  {
   "cell_type": "code",
   "execution_count": 19,
   "metadata": {},
   "outputs": [
    {
     "data": {
      "text/plain": [
       "3635"
      ]
     },
     "execution_count": 19,
     "metadata": {},
     "output_type": "execute_result"
    }
   ],
   "source": [
    "pfin_clean['selftext'].value_counts(ascending=False)[0]"
   ]
  },
  {
   "cell_type": "markdown",
   "metadata": {},
   "source": [
    "#### Exporting back into a CSV to use later for Modeling"
   ]
  },
  {
   "cell_type": "code",
   "execution_count": 20,
   "metadata": {},
   "outputs": [],
   "source": [
    "master_df = pd.concat([investing_clean,pfin_clean])"
   ]
  },
  {
   "cell_type": "code",
   "execution_count": 21,
   "metadata": {},
   "outputs": [],
   "source": [
    "master_df.to_csv('./master_df.csv')"
   ]
  },
  {
   "cell_type": "markdown",
   "metadata": {},
   "source": [
    "## 4. Relevant Visualizations"
   ]
  },
  {
   "cell_type": "code",
   "execution_count": 22,
   "metadata": {},
   "outputs": [
    {
     "name": "stderr",
     "output_type": "stream",
     "text": [
      "C:\\Users\\User\\anaconda3\\lib\\site-packages\\seaborn\\_decorators.py:36: FutureWarning: Pass the following variables as keyword args: x, y. From version 0.12, the only valid positional argument will be `data`, and passing other arguments without an explicit keyword will result in an error or misinterpretation.\n",
      "  warnings.warn(\n"
     ]
    },
    {
     "data": {
      "image/png": "[encoded data removed]",
      "text/plain": [
       "<Figure size 936x504 with 1 Axes>"
      ]
     },
     "metadata": {},
     "output_type": "display_data"
    }
   ],
   "source": [
    "plt.figure(figsize = (13,7))\n",
    "plt.title('Top 20 Words, Investing',fontsize=18)\n",
    "g = sns.barplot(inv_top_20[0],inv_top_20.index, palette='autumn')\n",
    "g.set_yticklabels(g.get_yticklabels(),fontweight=50,fontsize=10)\n",
    "g.set(ylabel='Word')\n",
    "g.set(xlabel='Count')\n",
    "g.tick_params(labelsize=12,labelcolor='black')"
   ]
  },
  {
   "cell_type": "markdown",
   "metadata": {},
   "source": [
    "These words are looking intuitively related to investing and larger-scale financial concepts. This is a good indicator that our scrape worked relatively well and we're not seeing anything crazy or unexpeted for this subreddit."
   ]
  },
  {
   "cell_type": "code",
   "execution_count": 35,
   "metadata": {},
   "outputs": [
    {
     "name": "stderr",
     "output_type": "stream",
     "text": [
      "C:\\Users\\User\\anaconda3\\lib\\site-packages\\seaborn\\_decorators.py:36: FutureWarning: Pass the following variables as keyword args: x, y. From version 0.12, the only valid positional argument will be `data`, and passing other arguments without an explicit keyword will result in an error or misinterpretation.\n",
      "  warnings.warn(\n"
     ]
    },
    {
     "data": {
      "image/png": "[encoded data removed]",
      "text/plain": [
       "<Figure size 936x504 with 1 Axes>"
      ]
     },
     "metadata": {},
     "output_type": "display_data"
    }
   ],
   "source": [
    "plt.figure(figsize = (13,7))\n",
    "plt.title('Top 20 Words, Personal Finance',fontsize=18)\n",
    "g = sns.barplot(pfin_top_20[0],pfin_top_20.index, palette='viridis')\n",
    "g.set_yticklabels(g.get_yticklabels(),fontweight=50,fontsize=10)\n",
    "g.set(ylabel='Word')\n",
    "g.set(xlabel='Count')\n",
    "g.tick_params(labelsize=12,labelcolor='black')"
   ]
  },
  {
   "cell_type": "markdown",
   "metadata": {},
   "source": [
    "Similarly, the words here are more closely aligned with smaller scale, individual financial concepts which is a good sign for our scrape here as well."
   ]
  },
  {
   "cell_type": "code",
   "execution_count": 62,
   "metadata": {},
   "outputs": [
    {
     "data": {
      "text/plain": [
       "<seaborn.axisgrid.FacetGrid at 0x13966b290d0>"
      ]
     },
     "execution_count": 62,
     "metadata": {},
     "output_type": "execute_result"
    },
    {
     "data": {
      "image/png": "[encoded data removed]",
      "text/plain": [
       "<Figure size 777.6x432 with 1 Axes>"
      ]
     },
     "metadata": {},
     "output_type": "display_data"
    }
   ],
   "source": [
    "h = sns.displot(pfin_clean['created_utc'],kde=False,height=6,aspect=1.8,color='#39B0BF');\n",
    "h.set(title='Personal Finance Post Creation Epochs')\n",
    "h.set(ylabel='Count')\n",
    "h.set(xlabel='Creation Epoch')"
   ]
  },
  {
   "cell_type": "code",
   "execution_count": 63,
   "metadata": {},
   "outputs": [
    {
     "data": {
      "text/plain": [
       "<seaborn.axisgrid.FacetGrid at 0x1396751bdf0>"
      ]
     },
     "execution_count": 63,
     "metadata": {},
     "output_type": "execute_result"
    },
    {
     "data": {
      "image/png": "[encoded data removed]",
      "text/plain": [
       "<Figure size 777.6x432 with 1 Axes>"
      ]
     },
     "metadata": {},
     "output_type": "display_data"
    }
   ],
   "source": [
    "j = sns.displot(investing_clean['created_utc'],kde=False,height=6,aspect=1.8);\n",
    "j.set(title='Investing Post Creation Epochs')\n",
    "j.set(ylabel='Count')\n",
    "j.set(xlabel='Creation Epoch')"
   ]
  },
  {
   "cell_type": "markdown",
   "metadata": {},
   "source": [
    "There seems to be a slightly larger time range for 20,000 posts in the Investing subreddit when compared to the Personal Finance subreddit. This makes sense intuitively, as the Investing subreddit has many fewer members at 1.2 million, than Personal Finance, which has nearly 15 million; and the latter has posts more frequently. This accounts for the fact that 20,000 posts spanned a shorter amount of time for Personal Finance than it did for Investing."
   ]
  },
  {
   "cell_type": "code",
   "execution_count": null,
   "metadata": {},
   "outputs": [],
   "source": []
  }
 ],
 "metadata": {
  "kernelspec": {
   "display_name": "Python 3",
   "language": "python",
   "name": "python3"
  },
  "language_info": {
   "codemirror_mode": {
    "name": "ipython",
    "version": 3
   },
   "file_extension": ".py",
   "mimetype": "text/x-python",
   "name": "python",
   "nbconvert_exporter": "python",
   "pygments_lexer": "ipython3",
   "version": "3.8.3"
  }
 },
 "nbformat": 4,
 "nbformat_minor": 4
}
