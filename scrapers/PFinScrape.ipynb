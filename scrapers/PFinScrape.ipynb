{
 "cells": [
  {
   "cell_type": "markdown",
   "metadata": {},
   "source": [
    "# 9/29 - Reddit API\n",
    "------\n",
    "**Author:** Sara Soueidan<br>\n",
    "**Source:** Sara Soueidan - Project 3, Tim Book - API Code\n",
    "\n",
    "We will (1) examine the Reddit API and Pushshift, (2) test Pushshift with a small call and (3) build a function that outputs a DataFrame with posts info from specific subreddit.\n",
    "\n",
    "_Disclaimer: Reddit posts may contain content NSFW._"
   ]
  },
  {
   "cell_type": "markdown",
   "metadata": {},
   "source": [
    "## Part 1 - Examine API\n",
    "[Reddit API Documentation](https://www.reddit.com/dev/api/)<br>\n",
    "[Pushshift API Wrapper Documentation](https://pushshift.io/api-parameters/)"
   ]
  },
  {
   "cell_type": "markdown",
   "metadata": {},
   "source": [
    "## Part 2 - Test API\n",
    "[Epoch Extractor](https://www.epochconverter.com/)"
   ]
  },
  {
   "cell_type": "markdown",
   "metadata": {},
   "source": [
    "**Imports**"
   ]
  },
  {
   "cell_type": "code",
   "execution_count": 1,
   "metadata": {},
   "outputs": [],
   "source": [
    "# Standards\n",
    "import pandas as pd\n",
    "import numpy as np\n",
    "import time\n",
    "\n",
    "# API\n",
    "import requests\n",
    "\n",
    "# Automating\n",
    "import time\n",
    "import datetime\n",
    "import warnings\n",
    "import sys"
   ]
  },
  {
   "cell_type": "markdown",
   "metadata": {},
   "source": [
    "**Test Pull from World of Warcraft Subreddit**"
   ]
  },
  {
   "cell_type": "markdown",
   "metadata": {},
   "source": [
    "**Write Function**"
   ]
  },
  {
   "cell_type": "code",
   "execution_count": 16,
   "metadata": {},
   "outputs": [],
   "source": [
    "def get_posts(subreddit, n_iter, epoch_right_now): # subreddit name and number of times function should run\n",
    "    # store base url variable\n",
    "    base_url = 'https://api.pushshift.io/reddit/search/submission/?subreddit='\n",
    "    \n",
    "    # instantiate empty list    \n",
    "    df_list = []\n",
    "    \n",
    "    # save current epoch, used to iterate in reverse through time\n",
    "    current_time = epoch_right_now\n",
    "    \n",
    "    # set up for loop\n",
    "    for post in range(n_iter):\n",
    "        res = requests.get(     \n",
    "        # instantiate get request\n",
    "            base_url,\n",
    "            # requests.get takes base_url and params\n",
    "            params = {\n",
    "            # parameters for get request\n",
    "                \n",
    "                # specify subreddit\n",
    "                'subreddit': subreddit,\n",
    "                # specify number of posts to pull\n",
    "                'size': 10,\n",
    "                # ???\n",
    "                'lang': True,\n",
    "                # pull everything from current time backward\n",
    "                'before': current_time}\n",
    "        )\n",
    "        \n",
    "        \n",
    "        # take data from most recent request, store as df\n",
    "        df = pd.DataFrame(res.json()['data'])\n",
    "        # pull specific columns from dataframe for analysis\n",
    "        df = df.loc[:,[\n",
    "                        'title',\n",
    "                        'author',\n",
    "                        'selftext',\n",
    "                        'created_utc',\n",
    "                        'subreddit']]\n",
    "        \n",
    "        # append to empty dataframe list\n",
    "        df_list.append(df)\n",
    "        \n",
    "        #add wait time\n",
    "        time.sleep(20)\n",
    "        \n",
    "        # set current time counter back to last epoch in recently grabbed df\n",
    "        current_time = df['created_utc'].min()\n",
    "    # return one dataframe for all requests\n",
    "    return pd.concat(df_list,axis=0)\n",
    "# Adapated from Tim Book's Lesson Example"
   ]
  },
  {
   "cell_type": "markdown",
   "metadata": {},
   "source": [
    "**Use function on WoW subreddit**"
   ]
  },
  {
   "cell_type": "code",
   "execution_count": 22,
   "metadata": {},
   "outputs": [],
   "source": [
    "personalfinance_500 = get_posts('personalfinance',5,1601600561)"
   ]
  },
  {
   "cell_type": "code",
   "execution_count": null,
   "metadata": {},
   "outputs": [],
   "source": [
    "personalfinance_500.to_csv('./personalfinance.csv')"
   ]
  },
  {
   "cell_type": "markdown",
   "metadata": {},
   "source": [
    "**Combine the DataFrames**"
   ]
  },
  {
   "cell_type": "code",
   "execution_count": 26,
   "metadata": {},
   "outputs": [
    {
     "data": {
      "text/plain": [
       "Diablo    500\n",
       "wow       500\n",
       "Name: subreddit, dtype: int64"
      ]
     },
     "execution_count": 26,
     "metadata": {},
     "output_type": "execute_result"
    }
   ],
   "source": [
    "# both = pd.concat([wow_500,diablo_500])\n",
    "# both['subreddit'].value_counts()"
   ]
  },
  {
   "cell_type": "code",
   "execution_count": null,
   "metadata": {},
   "outputs": [],
   "source": [
    "# both.to_csv('./bothredscrape')"
   ]
  },
  {
   "cell_type": "markdown",
   "metadata": {},
   "source": [
    "**Note: you can automate this to function to run as a script**\n",
    "\n",
    "1. Add in time breaks between loops to not overload the API\n",
    "2. Convert to .py\n",
    "3. Utilize `caffienate` on terminal"
   ]
  }
 ],
 "metadata": {
  "kernelspec": {
   "display_name": "Python 3",
   "language": "python",
   "name": "python3"
  },
  "language_info": {
   "codemirror_mode": {
    "name": "ipython",
    "version": 3
   },
   "file_extension": ".py",
   "mimetype": "text/x-python",
   "name": "python",
   "nbconvert_exporter": "python",
   "pygments_lexer": "ipython3",
   "version": "3.8.3"
  }
 },
 "nbformat": 4,
 "nbformat_minor": 4
}
